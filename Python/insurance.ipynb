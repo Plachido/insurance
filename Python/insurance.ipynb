{
 "cells": [
  {
   "cell_type": "markdown",
   "source": [
    "## INTRODUZIONE\n",
    "Il dataset contiene informazioni sull’interesse di clienti di una compagnia di assicurazioni per l’acquisto di\n",
    "polizze auto.\n",
    "Inizialmente le colonne che compongono il dataset sono 11, più l'ultima che è quella che identifica la classe di\n",
    "appartenenza delle istanze, ovvero la ground truth.\n",
    "Le features sono le seguenti:\n",
    "\n",
    "* ID: indice identificativo dei record del dataset\n",
    "* Gender: Sesso del cliente (Male/Female)\n",
    "* Age: Età del cliente espressa in anni\n",
    "* DrivingLicense: Possesso della patente di guida (1 in caso positivo o 0 in caso negativo)\n",
    "* RegionCode: Codice della regione di residenza del cliente\n",
    "* PreviouslyInsured: Indica se il cliente è già assicurato oppure no (1 in caso positivo o 0 in caso negativo)\n",
    "* VehicleAge: Età del veicolo espressa in 3 categorie (<1 anno, 1-2 anni, >2 anni)\n",
    "* VehicleDamage: Indica se il cliente ha fatto incidenti in passato oppure no (1 se positivo o 0 se negativo)\n",
    "* AnnualPremium: Premio che il cliente paga attualmente\n",
    "* PolicySalesChannel: Codice che indica il canale di comunicazione con il quale si interfaccia l'utente (Agente, Mail, Telefono, Fax)\n",
    "* Vintage: Da quanto tempo il cliente è assicurato con la compagnia espresso in giorni\n",
    "* Response: La ground truth che indica l'interesse del cliente, 1 se è interessato, 0 se non è interessato\n",
    "\n",
    "Per prima cosa vengono importate le 3 librerie seguenti che torneranno utili nel corso dell'analisi, infatti pandas è\n",
    "uno strumento indispensabile per la gestione e la manipolazione dei dati mentre seaborn e matplotlib sono utili per\n",
    "le rappresentazioni grafiche di dati e risultati"
   ],
   "metadata": {
    "collapsed": false,
    "pycharm": {
     "name": "#%% md\n"
    }
   }
  },
  {
   "cell_type": "code",
   "execution_count": 2,
   "id": "c59ef364-8eaf-4025-8328-81088e54f5b6",
   "metadata": {},
   "outputs": [],
   "source": [
    "#IMPORTAZIONE DELLE LIBRERIE\n",
    "import pandas as pd #PER STRUTTURE DATI E MANIPOLAZIONE (DF/SERIES)\n",
    "import seaborn as sns #PER PLOT\n",
    "import matplotlib.pyplot as plt #PER PLOT"
   ]
  },
  {
   "cell_type": "markdown",
   "source": [
    "Per prendere confidenza ed avere una prima idea di come si compone il dataset si usano le funzioni head() e\n",
    "describe(). Alcune cose che possiamo notare sono la maggioranza dei soggetti di sesso maschile, che le auto che sono\n",
    "state coinvolte in un sinistro sono più delle auto che non sono mai state coinvolte in incidenti e che la media delle\n",
    "auto ha tra 1 e 2 anni.\n",
    "Viene anche effettuato il primo passaggio di pre-processing rimuovendo la colonna `id` che non serve nè per l'analisi\n",
    "nè per la classificazione"
   ],
   "metadata": {
    "collapsed": false,
    "pycharm": {
     "name": "#%% md\n"
    }
   }
  },
  {
   "cell_type": "code",
   "execution_count": 3,
   "outputs": [
    {
     "name": "stdout",
     "output_type": "stream",
     "text": [
      "Gender: \n",
      "\n",
      "['Male' 'Female']\n",
      "\n",
      "Age: \n",
      "\n",
      "[44 76 47 21 29 24 23 56 32 41 71 37 25 42 60 65 49 34 51 26 57 79 48 45\n",
      " 72 30 54 27 38 22 78 20 39 62 58 59 63 50 67 77 28 69 52 31 33 43 36 53\n",
      " 70 46 55 40 61 75 64 35 66 68 74 73 84 83 81 80 82 85]\n",
      "\n",
      "Driving_License: \n",
      "\n",
      "[1 0]\n",
      "\n",
      "Region_Code: \n",
      "\n",
      "[28.  3. 11. 41. 33.  6. 35. 50. 15. 45.  8. 36. 30. 26. 16. 47. 48. 19.\n",
      " 39. 23. 37.  5. 17.  2.  7. 29. 46. 27. 25. 13. 18. 20. 49. 22. 44.  0.\n",
      "  9. 31. 12. 34. 21. 10. 14. 38. 24. 40. 43. 32.  4. 51. 42.  1. 52.]\n",
      "\n",
      "Previously_Insured: \n",
      "\n",
      "[0 1]\n",
      "\n",
      "Vehicle_Age: \n",
      "\n",
      "['> 2 Years' '1-2 Year' '< 1 Year']\n",
      "\n",
      "Vehicle_Damage: \n",
      "\n",
      "['Yes' 'No']\n",
      "\n",
      "Annual_Premium: \n",
      "\n",
      "[ 40454.  33536.  38294. ...  20706. 101664.  69845.]\n",
      "\n",
      "Policy_Sales_Channel: \n",
      "\n",
      "[ 26. 152. 160. 124.  14.  13.  30. 156. 163. 157. 122.  19.  22.  15.\n",
      " 154.  16.  52. 155.  11. 151. 125.  25.  61.   1.  86.  31. 150.  23.\n",
      "  60.  21. 121.   3. 139.  12.  29.  55.   7.  47. 127. 153.  78. 158.\n",
      "  89.  32.   8.  10. 120.  65.   4.  42.  83. 136.  24.  18.  56.  48.\n",
      " 106.  54.  93. 116.  91.  45.   9. 145. 147.  44. 109.  37. 140. 107.\n",
      " 128. 131. 114. 118. 159. 119. 105. 135.  62. 138. 129.  88.  92. 111.\n",
      " 113.  73.  36.  28.  35.  59.  53. 148. 133. 108.  64.  39.  94. 132.\n",
      "  46.  81. 103.  90.  51.  27. 146.  63.  96.  40.  66. 100.  95. 123.\n",
      "  98.  75.  69. 130. 134.  49.  97.  38.  17. 110.  80.  71. 117.  58.\n",
      "  20.  76. 104.  87.  84. 137. 126.  68.  67. 101. 115.  57.  82.  79.\n",
      " 112.  99.  70.   2.  34.  33.  74. 102. 149.  43.   6.  50. 144. 143.\n",
      "  41.]\n",
      "\n",
      "Vintage: \n",
      "\n",
      "[217 183  27 203  39 176 249  72  28  80  46 289 221  15  58 147 256 299\n",
      " 158 102 116 177 232  60 180  49  57 223 136 222 149 169  88 253 107 264\n",
      " 233  45 184 251 153 186  71  34  83  12 246 141 216 130 282  73 171 283\n",
      " 295 165  30 218  22  36  79  81 100  63 242 277  61 111 167  74 235 131\n",
      " 243 248 114 281  62 189 139 138 209 254 291  68  92  52  78 156 247 275\n",
      "  77 181 229 166  16  23  31 293 219  50 155  66 260  19 258 117 193 204\n",
      " 212 144 234 206 228 125  29  18  84 230  54 123 101  86  13 237  85  98\n",
      "  67 128  95  89  99 208 134 135 268 284 119 226 105 142 207 272 263  64\n",
      "  40 245 163  24 265 202 259  91 106 190 162  33 194 287 292  69 239 132\n",
      " 255 152 121 150 143 198 103 127 285 214 151 199  56  59 215 104 238 120\n",
      "  21  32 270 211 200 197  11 213  93 113 178  10 290  94 231 296  47 122\n",
      " 271 278 276  96 240 172 257 224 173 220 185  90  51 205  70 160 137 168\n",
      "  87 118 288 126 241  82 227 115 164 236 286 244 108 274 201  97  25 174\n",
      " 182 154  48  20  53  17 261  41 266  35 140 269 146 145  65 298 133 195\n",
      "  55 188  75  38  43 110  37 129 170 109 267 279 112 280  76 191  26 161\n",
      " 179 175 252  42 124 187 148 294  44 157 192 262 159 210 250  14 273 297\n",
      " 225 196]\n",
      "\n",
      "Response: \n",
      "\n",
      "[1 0]\n",
      "\n"
     ]
    },
    {
     "data": {
      "text/plain": "        Gender Vehicle_Age Vehicle_Damage\ncount   381109      381109         381109\nunique       2           3              2\ntop       Male    1-2 Year            Yes\nfreq    206089      200316         192413",
      "text/html": "<div>\n<style scoped>\n    .dataframe tbody tr th:only-of-type {\n        vertical-align: middle;\n    }\n\n    .dataframe tbody tr th {\n        vertical-align: top;\n    }\n\n    .dataframe thead th {\n        text-align: right;\n    }\n</style>\n<table border=\"1\" class=\"dataframe\">\n  <thead>\n    <tr style=\"text-align: right;\">\n      <th></th>\n      <th>Gender</th>\n      <th>Vehicle_Age</th>\n      <th>Vehicle_Damage</th>\n    </tr>\n  </thead>\n  <tbody>\n    <tr>\n      <th>count</th>\n      <td>381109</td>\n      <td>381109</td>\n      <td>381109</td>\n    </tr>\n    <tr>\n      <th>unique</th>\n      <td>2</td>\n      <td>3</td>\n      <td>2</td>\n    </tr>\n    <tr>\n      <th>top</th>\n      <td>Male</td>\n      <td>1-2 Year</td>\n      <td>Yes</td>\n    </tr>\n    <tr>\n      <th>freq</th>\n      <td>206089</td>\n      <td>200316</td>\n      <td>192413</td>\n    </tr>\n  </tbody>\n</table>\n</div>"
     },
     "execution_count": 3,
     "metadata": {},
     "output_type": "execute_result"
    }
   ],
   "source": [
    "#CREAZIONE DEL DATASET E VISUALIZZAZIONE DI DIMENSIONI\n",
    "#VISUALIZZAZIONI TIPI DI DATO DELLE COLONNE\n",
    "df = pd.read_csv('../insurance.csv')\n",
    "df.head()\n",
    "# Alcune feature necessitano di essere manipolate prima di essere utilizzate\n",
    "# Ad esempio la colonna id viene tolta in quanto irrilevante ai fini dell'analisi\n",
    "\n",
    "df.describe()\n",
    "\n",
    "#Mostro i valori unici presenti in ogni colonna\n",
    "df = df.drop(columns = 'id')\n",
    "\n",
    "for column in df.columns:\n",
    "    print(f\"{column}: \")\n",
    "    print(\"\")\n",
    "    print(df[column].unique())\n",
    "    print(\"\")\n",
    "\n",
    "df.describe(include = 'O')"
   ],
   "metadata": {
    "collapsed": false,
    "pycharm": {
     "name": "#%%\n"
    }
   }
  },
  {
   "cell_type": "markdown",
   "source": [
    "## BOXPLOT\n",
    "\n",
    "Per rappresentare graficamente la distribuzione dei valori delle 3 features numeriche\n",
    "`Age`, `Annual_Premium` e `Vintage` e controllare la presenza di outliers si stampano i relativi boxplot. Mentre per il\n",
    "primo ed il terzo non si notano anomalie, per il boxplot relativo ad `Annual_Premium` si nota che la maggioranza delle\n",
    "persone paga cifre molto simili tra loro e abbastanza basse, mentre un numero non trascurabile di persone paga una\n",
    "cifra molto più elevata per la propria assicurazione. Essendo queste istanze di numero elevato, non possiamo assumere\n",
    "che siano effettivamente valori anomali ed inoltre eliminarli potrebbe portare i modelli a classificare male potenziali\n",
    "clienti che hanno un valore alto in tale feature. Ancora, questi potenziali clienti potrebbero essere di particolare\n",
    "interesse proprio in virtù del loro premio particolarmente alto\n"
   ],
   "metadata": {
    "collapsed": false,
    "pycharm": {
     "name": "#%% md\n"
    }
   }
  },
  {
   "cell_type": "code",
   "execution_count": 4,
   "id": "7c955ce1-cff6-4149-b4b4-8f26091091d9",
   "metadata": {},
   "outputs": [
    {
     "data": {
      "text/plain": "<Figure size 432x288 with 3 Axes>",
      "image/png": "[encoded data removed]"
     },
     "metadata": {
      "needs_background": "light"
     },
     "output_type": "display_data"
    }
   ],
   "source": [
    "#BOXPLOT DI AGE, ANNUAL_PREMIUM E VINTAGE\n",
    "plt.subplot(1, 3, 1)\n",
    "plt.boxplot(df[['Age']], flierprops={'marker': 'o', 'markersize': 2})\n",
    "plt.subplot(1, 3, 2)\n",
    "plt.boxplot(df[['Annual_Premium']], flierprops={'markersize': 2})\n",
    "plt.subplot(1, 3, 3)\n",
    "plt.boxplot(df[['Vintage']], flierprops={'markersize': 2})\n",
    "plt.show()\n"
   ]
  },
  {
   "cell_type": "markdown",
   "source": [
    "## PRE-PROCESSING\n",
    "\n",
    "Per poter essere utilizzate efficientemente, alcune colonne hanno bisogno di essere manipolate. In particolare:\n",
    "\n",
    "* La colonna `Gender`, viene trasformata nella colonna `Male`, che ammette valori binari `0` e `1` dove `1` rappresenta\n",
    "il sesso maschile e `0` quello femminile.\n",
    "* La colonna `Vehicle_Age` viene convertita da categorica ordinata a numerica. I valori utilizzati sono:\n",
    "  + -1 per le auto immatricolate da meno di un anno\n",
    "  + 0 per le auto immatricolate tra gli 1 e i 2 anni precedenti\n",
    "  + 1 per le auto immatricolate da più di 2 anni\n",
    "* La colonna `Vehicle_Damage` viene convertita da categorica nominale a factor. I valori utilizzati sono:\n",
    "  + 0 per le auto che non sono mai state coinvolte in incidenti\n",
    "  + 1 per le auto che sono state coinvolte in incidenti"
   ],
   "metadata": {
    "collapsed": false,
    "pycharm": {
     "name": "#%% md\n"
    }
   }
  },
  {
   "cell_type": "code",
   "execution_count": 5,
   "id": "413dfd67-de1b-48d8-be2f-7286c8fa870c",
   "metadata": {},
   "outputs": [],
   "source": [
    "# PRE-PROCESSING\n",
    "# CONVERSIONE DI \"GENDER\" IN BINARIO (MALE)\n",
    "# CONVERSIONE DI VEHICLE_AGE IN NUMERICO E VEHICLE_DAMAGE IN BINARIO\n",
    "df = df.rename(columns={\"Gender\": \"Male\"})\n",
    "cleanup_nums = {\"Vehicle_Age\": {\"< 1 Year\": -1, \"1-2 Year\": 0, \"> 2 Years\": 1},\n",
    "                \"Vehicle_Damage\": {\"Yes\": 1, \"No\": 0},\n",
    "                \"Male\": {\"Male\": 1, \"Female\": 0}} #DIZIONARIO CONTENENTE\n",
    "                                                  #REGOLE DI CONVERSIONE\n",
    "df = df.replace(cleanup_nums)"
   ]
  },
  {
   "cell_type": "markdown",
   "source": [
    "DA AGGIUNGERE TESTO PER COMMENTARE PLOT"
   ],
   "metadata": {
    "collapsed": false,
    "pycharm": {
     "name": "#%% md\n"
    }
   }
  },
  {
   "cell_type": "code",
   "execution_count": 6,
   "outputs": [
    {
     "data": {
      "text/plain": "<Figure size 432x288 with 1 Axes>",
      "image/png": "[encoded data removed]"
     },
     "metadata": {
      "needs_background": "light"
     },
     "output_type": "display_data"
    },
    {
     "data": {
      "text/plain": "<Figure size 432x288 with 1 Axes>",
      "image/png": "[encoded data removed]"
     },
     "metadata": {
      "needs_background": "light"
     },
     "output_type": "display_data"
    },
    {
     "data": {
      "text/plain": "<Figure size 432x288 with 1 Axes>",
      "image/png": "[encoded data removed]"
     },
     "metadata": {
      "needs_background": "light"
     },
     "output_type": "display_data"
    }
   ],
   "source": [
    "import numpy as np #PER TRIANGOLIZZAZIONE MATRICE DI CORRELAZIONE\n",
    "# DISTRIBUZIONE DELLE FREQUENZE SU VARIABILI VARIE\n",
    "#DISTRIBUZIONE SU \"AGE\"\n",
    "x1 = df.loc[df.Response == 1, 'Age']\n",
    "x2 = df.loc[df.Response == 0, 'Age']\n",
    "plt.hist(x2, color='#F8766D', label='0', alpha=0.4, bins=30,\n",
    "         weights=np.zeros_like(x2) + 1. / x2.size)\n",
    "plt.hist(x1, color='#00BA38', label='1', alpha=0.4, bins=30,\n",
    "         weights=np.zeros_like(x1) + 1. / x1.size)\n",
    "plt.gca().set(title='Frequency histogram of \"Age\"', ylabel='Frequency')\n",
    "plt.xlim(0, 90)\n",
    "plt.legend()\n",
    "plt.show()\n",
    "#DISTRIBUZIONE SU \"VINTAGE\"\n",
    "x1 = df.loc[df.Response == 1, 'Vintage']\n",
    "x2 = df.loc[df.Response == 0, 'Vintage']\n",
    "plt.hist(x2, color='#F8766D', label='0', alpha=0.4, bins=30,\n",
    "         weights=np.zeros_like(x2) + 1. / x2.size)\n",
    "plt.hist(x1, color='#00BA38', label='1', alpha=0.4, bins=30,\n",
    "         weights=np.zeros_like(x1) + 1. / x1.size)\n",
    "plt.gca().set(title='Frequency histogram of \"Vintage\"', ylabel='Frequency')\n",
    "plt.xlim(0, 310)\n",
    "plt.legend();\n",
    "plt.show()\n",
    "#DISTRIBUZIONE SU \"ANNUAL_PREMIUM\"\n",
    "kwargs = dict(alpha=0.4, bins=100)\n",
    "x1 = df.loc[df.Response == 1, 'Annual_Premium']\n",
    "x2 = df.loc[df.Response == 0, 'Annual_Premium']\n",
    "plt.hist(x2, color='#F8766D', label='0', alpha=0.4, bins=100,\n",
    "         weights=np.zeros_like(x2) + 1. / x2.size)\n",
    "plt.hist(x1, color='#00BA38', label='1', alpha=0.4, bins=100,\n",
    "         weights=np.zeros_like(x1) + 1. / x1.size)\n",
    "plt.gca().set(title='Frequency histogram of \"Annual Premium\"', ylabel='Frequency')\n",
    "plt.xlim(0, 120000)\n",
    "plt.legend()\n",
    "plt.show()"
   ],
   "metadata": {
    "collapsed": false,
    "pycharm": {
     "name": "#%%\n"
    }
   }
  },
  {
   "cell_type": "markdown",
   "source": [
    "\n",
    "## MATRICE DI CORRELAZIONE E SBILANCIAMENTO\n",
    "\n",
    "Nonostante il numero non elevato di features presenti nel dataset possiamo cercare la correlazione presente tra esse.\n",
    "Dalla correlation matrix si può notare che le\n",
    "features `Vehicle_Age` e `Age` sono piuttosto correlate tra loro. Nonostante questo\n",
    "ho deciso di mantenerle entrambe poichè il vantaggio dal punto di vista computazionale\n",
    "è minimo, evitando cosi perdita di informazioni.\n",
    "Inoltre la heatmap creata che serve per mettere in risalto i dati mancanti mostra come non ce ne sia nessuno all'interno\n",
    "del dataset\n"
   ],
   "metadata": {
    "collapsed": false,
    "pycharm": {
     "name": "#%% md\n"
    }
   }
  },
  {
   "cell_type": "code",
   "execution_count": 22,
   "outputs": [
    {
     "data": {
      "text/plain": "<Figure size 432x288 with 2 Axes>",
      "image/png": "[encoded data removed]"
     },
     "metadata": {
      "needs_background": "light"
     },
     "output_type": "display_data"
    }
   ],
   "source": [
    "#MATRICE DI CORRELAZIONE\n",
    "corMatrix = df[['Age', 'Vehicle_Age', 'Annual_Premium', 'Vintage']].corr()\n",
    "Matrix = np.triu(corMatrix)\n",
    "sns.heatmap(corMatrix, annot=True, square=True, mask = Matrix)\n",
    "plt.show()"
   ],
   "metadata": {
    "collapsed": false,
    "pycharm": {
     "name": "#%%\n"
    }
   }
  },
  {
   "cell_type": "markdown",
   "source": [
    "Uno degli aspetti più critici del dataset in analisi è lo sbilanciamento tra le classi,\n",
    "come si evince dal seguente piechart. Infatti le percentuali evidenziano uno sbilanciamento di 88% a favore della\n",
    "classe dei negativi contro il 12% della classe dei positivi"
   ],
   "metadata": {
    "collapsed": false,
    "pycharm": {
     "name": "#%% md\n"
    }
   }
  },
  {
   "cell_type": "code",
   "execution_count": 23,
   "outputs": [
    {
     "data": {
      "text/plain": "<Figure size 432x288 with 1 Axes>",
      "image/png": "[encoded data removed]"
     },
     "metadata": {},
     "output_type": "display_data"
    }
   ],
   "source": [
    "#GRAFICO A TORTA CHE DIMOSTRA LO SBILANCIAMENTO\n",
    "freq = df['Response'].value_counts(normalize=True) * 100\n",
    "plt.pie(freq, autopct='%.0f%%')\n",
    "plt.legend(['0', '1'])\n",
    "plt.show()\n"
   ],
   "metadata": {
    "collapsed": false,
    "pycharm": {
     "name": "#%%\n"
    }
   }
  },
  {
   "cell_type": "markdown",
   "source": [
    "## SEPARAZIONE STRATIFICATA\n",
    "\n",
    "Per addestrare e validare i modelli che verranno realizzati si divide il dataset originale nei due dataset di training\n",
    "e testing nella classica proporzione percentuale di 70-30. Il criterio di separazione scelto è quello stratificato\n",
    "perché consente di mantenere la proporzione tra le istanze della classe di maggioranza e quella di minoranza\n",
    "all'interno dei due dataset. È stata fatta questa scelta perché il dataset originale è molto sbilanciato, ed in\n",
    "questo modo si evita la creazione di dataset ancora più sbilanciati"
   ],
   "metadata": {
    "collapsed": false,
    "pycharm": {
     "name": "#%% md\n"
    }
   }
  },
  {
   "cell_type": "code",
   "execution_count": 10,
   "outputs": [],
   "source": [
    "#SPLIT STRATIFICATO TEST/TRAIN\n",
    "from sklearn import model_selection\n",
    "\n",
    "y = df['Response']\n",
    "x = df.drop(['Response'], axis=1)\n",
    "X_train, X_test, y_train, y_test = model_selection.train_test_split(x, y,\n",
    "                                                    stratify=y,\n",
    "                                                    test_size=0.3,\n",
    "                                                    random_state=1)"
   ],
   "metadata": {
    "collapsed": false,
    "pycharm": {
     "name": "#%%\n"
    }
   }
  },
  {
   "cell_type": "markdown",
   "id": "14c092a7-4751-4533-96a4-96134958c596",
   "metadata": {
    "pycharm": {
     "name": "#%% md\n"
    }
   },
   "source": [
    "La seguente funzione viene creata sfruttando le funzioni appartenenti a sklearn, restituisce e stampa i valori di\n",
    "accuracy, sensitivity e specificity, prendendo in input la predizione generata da un modello e la relativa ground truth"
   ]
  },
  {
   "cell_type": "code",
   "execution_count": 15,
   "outputs": [],
   "source": [
    "#FUNZIONE PER GENERAZIONE DI MATRICE DI CONFUSIONE E RESTITUZIONE DI PARAMETRI\n",
    "#INTERESSANTI\n",
    "def confusionMatrix (Prediction, Ground_Truth, verbose = False):\n",
    "    from sklearn.metrics import confusion_matrix as cm\n",
    "    CM = cm(Ground_Truth, Prediction)\n",
    "    TN = CM[0][0]\n",
    "    FN = CM[1][0]\n",
    "    TP = CM[1][1]\n",
    "    FP = CM[0][1]\n",
    "    accuracy = (TP+TN)/(TP + FN + FP + TN)\n",
    "    sensitivity = TP/(TP+FN)\n",
    "    specificity = TN/(TN+FP)\n",
    "    if verbose:\n",
    "        print(\"Accuracy:      %f\\n\" % accuracy)\n",
    "        print(\"Sensitivity:   %f\\n\" % sensitivity)\n",
    "        print(\"Specificity:   %f\\n\" % specificity)\n",
    "    return accuracy, sensitivity, specificity"
   ],
   "metadata": {
    "collapsed": false,
    "pycharm": {
     "name": "#%%\n"
    }
   }
  },
  {
   "cell_type": "markdown",
   "source": [
    "Al fine di rendere meno ridondante il codice viene creata una funzione che genera e testa un albero oltre che\n",
    "restituirlo come risultato"
   ],
   "metadata": {
    "collapsed": false,
    "pycharm": {
     "name": "#%% md\n"
    }
   }
  },
  {
   "cell_type": "code",
   "execution_count": 16,
   "outputs": [],
   "source": [
    "from sklearn.tree import DecisionTreeClassifier\n",
    "\n",
    "#FUNZIONE PER LA CREAZIONE E IL TESTING DI ALBERI\n",
    "def tree_test(X_train, y_train, X_test, y_test, verbose = True):\n",
    "    dtree = DecisionTreeClassifier(random_state=1)\n",
    "    dtree = dtree.fit(X_train, y_train)\n",
    "    pred = dtree.predict(X_test)\n",
    "    confusionMatrix(pred, y_test, verbose)\n",
    "    return dtree"
   ],
   "metadata": {
    "collapsed": false,
    "pycharm": {
     "name": "#%%\n"
    }
   }
  },
  {
   "cell_type": "markdown",
   "source": [
    "La seguente funzione restituisce il false positive rate ed il true positive rate a partire da un modello ed un dataset\n",
    "su cui testarlo. Questi valori serviranno per la generazione della curva ROC\n"
   ],
   "metadata": {
    "collapsed": false,
    "pycharm": {
     "name": "#%% md\n"
    }
   }
  },
  {
   "cell_type": "code",
   "execution_count": 17,
   "outputs": [],
   "source": [
    "#FUNZIONE PER SALVATAGGIO DI 'fpr' E 'tpr' A PARTIRE DA MODELLO\n",
    "def f_t_pr(model, X_test, y_test):\n",
    "    from sklearn.metrics import roc_curve\n",
    "    probs = model.predict_proba(X_test)\n",
    "    probs = probs[:, 1]\n",
    "    fpr, tpr, thresholds = roc_curve(y_test, probs)\n",
    "    return fpr, tpr"
   ],
   "metadata": {
    "collapsed": false,
    "pycharm": {
     "name": "#%%\n"
    }
   }
  },
  {
   "cell_type": "markdown",
   "source": [
    "## ALBERO DI DECISIONE SU TESTING SBILANCIATO\n",
    "\n",
    "Nonostante lo sbilanciamento si prova a generare un primo modello, in particolare viene generato un albero di\n",
    "decisione. Per fare ciò ci si può avvalere del `DecisionTreeClassifier` di sklearn, che genera un albero implementando\n",
    "l'algoritmo CART ed utilizzando quindi l'indice di Gini come criterio per lo splitting"
   ],
   "metadata": {
    "collapsed": false,
    "pycharm": {
     "name": "#%% md\n"
    }
   }
  },
  {
   "cell_type": "code",
   "execution_count": 18,
   "outputs": [
    {
     "name": "stdout",
     "output_type": "stream",
     "text": [
      "Accuracy:      0.823323\n",
      "\n",
      "Sensitivity:   0.286377\n",
      "\n",
      "Specificity:   0.898325\n",
      "\n"
     ]
    }
   ],
   "source": [
    "#CREZIONE DI DATASET SENZA VARIABILI CATEGORICHE (PER ALBERO)\n",
    "X_train_num = X_train.drop(['Region_Code','Policy_Sales_Channel'], axis=1)\n",
    "X_test_num = X_test.drop(['Region_Code', 'Policy_Sales_Channel'], axis=1)\n",
    "dtree = tree_test(X_train_num, y_train, X_test_num, y_test)"
   ],
   "metadata": {
    "collapsed": false,
    "pycharm": {
     "name": "#%%\n"
    }
   }
  },
  {
   "cell_type": "markdown",
   "source": [
    "Si può notare che i risultati sono molto deludenti. Nonostante questo sia molto probabilmente dato dallo sbilanciamento\n",
    "dei dati vogliamo assicurarci di non incorrere nel fenomeno dell'overfitting. Per fare ciò si osservano i valori di\n",
    "accuracy, sensitivity e specificity forniti al variare dell'altezza dell'albero. Osservando i risultati riportati di\n",
    "seguito si conferma quanto detto inizialmente, poiché le prestazioni non migliorano significativamente al variare\n",
    "dell'altezza"
   ],
   "metadata": {
    "collapsed": false
   }
  },
  {
   "cell_type": "code",
   "execution_count": 24,
   "outputs": [
    {
     "data": {
      "text/plain": "<Figure size 432x288 with 1 Axes>",
      "image/png": "[encoded data removed]"
     },
     "metadata": {
      "needs_background": "light"
     },
     "output_type": "display_data"
    },
    {
     "data": {
      "text/plain": "<Figure size 432x288 with 1 Axes>",
      "image/png": "[encoded data removed]"
     },
     "metadata": {
      "needs_background": "light"
     },
     "output_type": "display_data"
    },
    {
     "data": {
      "text/plain": "<Figure size 432x288 with 1 Axes>",
      "image/png": "[encoded data removed]"
     },
     "metadata": {
      "needs_background": "light"
     },
     "output_type": "display_data"
    }
   ],
   "source": [
    "#VOGLIAMO VISUALIZZARE L'IMPATTO DELLA PROFONDITA' E DEL CRITERIO DI SPLIT\n",
    "# SULLA QUALITA DELL'ALBERO (VERIFICARE RISCHIO OVERFITTING)\n",
    "max = dtree.get_depth()\n",
    "max_depth = []\n",
    "acc_gini = []\n",
    "acc_entropy = []\n",
    "sens_gini = []\n",
    "spec_gini = []\n",
    "sens_entropy = []\n",
    "spec_entropy = []\n",
    "for i in range(1,max):\n",
    " dtree = DecisionTreeClassifier(criterion='gini', max_depth=i, random_state=1)\n",
    " dtree.fit(X_train_num, y_train)\n",
    " pred = dtree.predict(X_test_num)\n",
    " acc_gini.append(confusionMatrix(pred, y_test)[0])\n",
    " sens_gini.append(confusionMatrix(pred, y_test)[1])\n",
    " spec_gini.append(confusionMatrix(pred, y_test)[2])\n",
    " ####\n",
    " dtree = DecisionTreeClassifier(criterion='entropy', max_depth=i, random_state=1)\n",
    " dtree.fit(X_train_num, y_train)\n",
    " pred = dtree.predict(X_test_num)\n",
    " acc_entropy.append(confusionMatrix(pred, y_test)[0])\n",
    " sens_entropy.append(confusionMatrix(pred, y_test)[1])\n",
    " spec_entropy.append(confusionMatrix(pred, y_test)[2])\n",
    " ####\n",
    " max_depth.append(i)\n",
    "\n",
    "d = pd.DataFrame({'acc_gini':pd.Series(acc_gini),\n",
    "                  'sens_gini': pd.Series(sens_gini),\n",
    "                  'spec_gini': pd.Series(spec_gini),\n",
    "                  'acc_entropy':pd.Series(acc_entropy),\n",
    "                  'sens_entropy':pd.Series(sens_entropy),\n",
    "                  'spec_entropy':pd.Series(spec_entropy),\n",
    "                  'max_depth':pd.Series(max_depth)})\n",
    "\n",
    "# Si visualizzano graficamente i cambiamenti a seconda dei parametri\n",
    "plt.plot('max_depth','acc_gini', data=d, label='gini')\n",
    "plt.plot('max_depth','acc_entropy', data=d, label='entropy')\n",
    "plt.xlabel('max_depth')\n",
    "plt.ylabel('accuracy')\n",
    "plt.legend()\n",
    "plt.show()\n",
    "\n",
    "plt.plot('max_depth','sens_gini', data=d, label='gini')\n",
    "plt.plot('max_depth','sens_entropy', data=d, label='entropy')\n",
    "plt.xlabel('max_depth')\n",
    "plt.ylabel('sensitivity')\n",
    "plt.legend()\n",
    "plt.show()\n",
    "\n",
    "plt.plot('max_depth','spec_gini', data=d, label='gini')\n",
    "plt.plot('max_depth','spec_entropy', data=d, label='entropy')\n",
    "plt.xlabel('max_depth')\n",
    "plt.ylabel('specificity')\n",
    "plt.legend()\n",
    "plt.show()"
   ],
   "metadata": {
    "collapsed": false,
    "pycharm": {
     "name": "#%%\n"
    }
   }
  },
  {
   "cell_type": "markdown",
   "source": [
    "Alla luce delle prestazioni mostrate da questo primo modello è bene procedere ad un ribilanciamento delle classi.\n",
    "Per fare ciò mi sono avvalso di due tecniche:\n",
    "* Tecnica di sottocampionamento casuale che consiste nel rimuovere casualmente istanze della classe di maggioranza\n",
    " fino ad avere un bilanciamento di circa 50-50\n",
    "* Sovracampionamento effettuato attraverso SMOTE, che genera istanze sintetiche della classe di minoranza sfruttando\n",
    "un algoritmo di k-nearest neighbors (K = 5 nel mio caso)\n",
    "* SMOTE + RANDOM UNDERSAMPLING tecnica suggerita dal paper ufficiale di SMOTE che combina le due precedenti\n"
   ],
   "metadata": {
    "collapsed": false,
    "pycharm": {
     "name": "#%% md\n"
    }
   }
  },
  {
   "cell_type": "code",
   "execution_count": 20,
   "outputs": [
    {
     "name": "stdout",
     "output_type": "stream",
     "text": [
      "0    32697\n",
      "1    22887\n",
      "Name: Response, dtype: int64\n",
      "1    234079\n",
      "0    234079\n",
      "Name: Response, dtype: int64\n",
      "0    100318\n",
      "1     70223\n",
      "Name: Response, dtype: int64\n"
     ]
    }
   ],
   "source": [
    "#RIBILANCIAMENTO CON UNDERSAMPLING CASUALE\n",
    "from imblearn.under_sampling import RandomUnderSampler\n",
    "undersample = RandomUnderSampler(sampling_strategy={0:y_train.value_counts()[1], 1:(int(y_train.value_counts()[1]*0.7))})\n",
    "X_train_under, y_train_under = undersample.fit_resample(X_train, y_train)\n",
    "print(y_train_under.value_counts())\n",
    "\n",
    "#RIBILANCIAMENTO CON SMOTE\n",
    "from imblearn.over_sampling import SMOTE\n",
    "oversample = SMOTE()\n",
    "X_train_over, y_train_over = oversample.fit_resample(X_train, y_train)\n",
    "print(y_train_over.value_counts())\n",
    "\n",
    "# SMOTE + RANDOM UNDERSAMPLING\n",
    "oversample = SMOTE(sampling_strategy=0.3) #porto lo sbilanicamento al 30%\n",
    "under = RandomUnderSampler(sampling_strategy=0.7)\n",
    "X_train_mix, y_train_mix = oversample.fit_resample(X_train, y_train)\n",
    "X_train_mix, y_train_mix = under.fit_resample(X_train_mix, y_train_mix)\n",
    "print(y_train_mix.value_counts())\n"
   ],
   "metadata": {
    "collapsed": false,
    "pycharm": {
     "name": "#%%\n"
    }
   }
  },
  {
   "cell_type": "markdown",
   "source": [
    "## MODELLI DI CLASSIFICAZIONE\n",
    "\n",
    "### ALBERI DI DECISIONE"
   ],
   "metadata": {
    "collapsed": false,
    "pycharm": {
     "name": "#%% md\n"
    }
   }
  },
  {
   "cell_type": "code",
   "execution_count": 21,
   "outputs": [
    {
     "name": "stdout",
     "output_type": "stream",
     "text": [
      "Accuracy:      0.736550\n",
      "\n",
      "Sensitivity:   0.628345\n",
      "\n",
      "Specificity:   0.751665\n",
      "\n"
     ]
    }
   ],
   "source": [
    "#ALBERO CON UNDERSAMPLING CASUALE\n",
    "X_train_under_num = X_train_under.drop(['Region_Code','Policy_Sales_Channel'], axis=1)\n",
    "dtree_us = tree_test(X_train_under_num, y_train_under, X_test_num, y_test)"
   ],
   "metadata": {
    "collapsed": false,
    "pycharm": {
     "name": "#%%\n"
    }
   }
  },
  {
   "cell_type": "code",
   "execution_count": 15,
   "outputs": [
    {
     "name": "stdout",
     "output_type": "stream",
     "text": [
      "Accuracy:      0.766891\n",
      "\n",
      "Sensitivity:   0.536002\n",
      "\n",
      "Specificity:   0.799143\n",
      "\n"
     ]
    }
   ],
   "source": [
    "#ALBERO CON SMOTE\n",
    "X_train_over_num = X_train_over.drop(['Region_Code','Policy_Sales_Channel'], axis=1)\n",
    "dtree_os = tree_test(X_train_over_num, y_train_over, X_test_num, y_test)"
   ],
   "metadata": {
    "collapsed": false,
    "pycharm": {
     "name": "#%%\n"
    }
   }
  },
  {
   "cell_type": "code",
   "execution_count": 16,
   "outputs": [
    {
     "name": "stdout",
     "output_type": "stream",
     "text": [
      "Accuracy:      0.757751\n",
      "\n",
      "Sensitivity:   0.572254\n",
      "\n",
      "Specificity:   0.783662\n",
      "\n"
     ]
    }
   ],
   "source": [
    "#ARBERO CON SMOTE + UNDERSAMPLING RANDOM\n",
    "X_train_mix_num = X_train_mix.drop(['Region_Code','Policy_Sales_Channel'], axis=1)\n",
    "dtree_mix = tree_test(X_train_mix_num, y_train_mix, X_test_num, y_test)"
   ],
   "metadata": {
    "collapsed": false,
    "pycharm": {
     "name": "#%%\n"
    }
   }
  },
  {
   "cell_type": "markdown",
   "source": [
    "Gli alberi generati a partire da dataset di training ribilanciati forniscono in generale prestazioni notevolmente\n",
    "migliori. Andando ad analizzare uno per uno i vari alberi creati si nota che l'albero addestrato con il dataset\n",
    "bilanciato con SMOTE ha risultati più scadenti degli altri, mentre quello bilanciato con sottocampionamento casuale\n",
    "ha le prestazioni migliori\n"
   ],
   "metadata": {
    "collapsed": false,
    "pycharm": {
     "name": "#%% md\n"
    }
   }
  },
  {
   "cell_type": "markdown",
   "source": [
    "### CURVA ROC\n",
    "Per valutare le prestazioni di un classificatore binario o per confrontarne più di uno per via grafica, ci si affida alla\n",
    "curva ROC, che viene generata mettendo in relazione il tasso di veri positivi e il tasso di falsi positivi permettendo\n",
    "un'immediata valutazione dei modelli. In generale un modello risulta essere più accurato quanto più la sua curva ROC si\n",
    "avvicina all'angolo superiore sinistro del grafico\n"
   ],
   "metadata": {
    "collapsed": false,
    "pycharm": {
     "name": "#%% md\n"
    }
   }
  },
  {
   "cell_type": "code",
   "execution_count": 16,
   "outputs": [],
   "source": [
    "#FUNZIONE PER STAMPA DELLE CURVE ROC\n",
    "def plot_roc(*args, X_test, y_test, labels=[]):\n",
    "    i = 0\n",
    "    colors = ['b', 'g', 'r', 'c', 'm', 'y', 'k']\n",
    "    for model in args:\n",
    "        fpr, tpr = f_t_pr(model, X_test, y_test)\n",
    "        plt.plot(fpr, tpr, color=colors[i], label=labels[i])\n",
    "        i+=1\n",
    "    plt.plot([0, 1], [0, 1], color='darkblue', linestyle='--')\n",
    "    plt.xlabel('False Positive Rate')\n",
    "    plt.ylabel('True Positive Rate')\n",
    "    plt.title('Receiver Operating Characteristic (ROC) Curve')\n",
    "    plt.legend()\n",
    "    plt.show()"
   ],
   "metadata": {
    "collapsed": false,
    "pycharm": {
     "name": "#%%\n"
    }
   }
  },
  {
   "cell_type": "markdown",
   "source": [
    "Per valutare meglio le prestazioni di classificatori addestrati con diversi dataset si stampano in un unico grafico\n",
    "le relative curve ROC mediante una funzione scritta ad hoc"
   ],
   "metadata": {
    "collapsed": false,
    "pycharm": {
     "name": "#%% md\n"
    }
   }
  },
  {
   "cell_type": "code",
   "execution_count": null,
   "outputs": [],
   "source": [
    "#STAMPA DELLE CURVE ROC\n",
    "lab = ['Original Data', 'Random Undersampling', 'SMOTE', 'SMOTE + Random Undersampling']\n",
    "plot_roc(dtree, dtree_us, dtree_os, dtree_mix, X_test = X_test_num, y_test = y_test, labels=lab)"
   ],
   "metadata": {
    "collapsed": false,
    "pycharm": {
     "name": "#%%\n"
    }
   }
  },
  {
   "cell_type": "markdown",
   "source": [
    "### NAIVE-BAYES\n",
    "Adesso si utilizza il metodo di classificazione Naive-Bayes anche grazie al fatto che non ci sono dati mancanti.\n",
    "Questo metodo risulta molto rapido nell'esecuzione perché nonostante si basi sul teorema di Bayes, il metodo\n",
    "Naive-Bayes fa delle semplificazioni assumendo che l'effetto di un attributo su una data classe sia indipendente\n",
    "dai valori degli altri attributi.\n",
    "Come per gli alberi di decisione si valuteranno le prestazioni prima sul dataset originale e poi per i 3\n",
    "dataset bilanciati, prima quello bilanciato con Undersampling, dopo quello bilanciato con SMOTE ed infine quello ibrido\n"
   ],
   "metadata": {
    "collapsed": false,
    "pycharm": {
     "name": "#%% md\n"
    }
   }
  },
  {
   "cell_type": "code",
   "execution_count": 19,
   "outputs": [
    {
     "name": "stdout",
     "output_type": "stream",
     "text": [
      "Accuracy:      0.820323\n",
      "\n",
      "Sensitivity:   0.363020\n",
      "\n",
      "Specificity:   0.884201\n",
      "\n"
     ]
    },
    {
     "data": {
      "text/plain": "(0.8203230913209659, 0.3630200528081068, 0.8842005582137161)"
     },
     "execution_count": 19,
     "metadata": {},
     "output_type": "execute_result"
    }
   ],
   "source": [
    "#NAIVE BAYES SBILANCIATO\n",
    "from sklearn.naive_bayes import GaussianNB\n",
    "gnb = GaussianNB()\n",
    "gnb = gnb.fit(X_train, y_train)\n",
    "pred = gnb.predict(X_test)\n",
    "confusionMatrix(pred, y_test, True)"
   ],
   "metadata": {
    "collapsed": false,
    "pycharm": {
     "name": "#%%\n"
    }
   }
  },
  {
   "cell_type": "code",
   "execution_count": 20,
   "outputs": [
    {
     "name": "stdout",
     "output_type": "stream",
     "text": [
      "Accuracy:      0.700690\n",
      "\n",
      "Sensitivity:   0.848997\n",
      "\n",
      "Specificity:   0.679974\n",
      "\n"
     ]
    },
    {
     "data": {
      "text/plain": "(0.7006900894754795, 0.848997359594662, 0.6799740829346093)"
     },
     "execution_count": 20,
     "metadata": {},
     "output_type": "execute_result"
    }
   ],
   "source": [
    "#NAIVE BAYES UNDERSAMPLING CASUALE\n",
    "gnb = GaussianNB()\n",
    "gnb_us = gnb.fit(X_train_under, y_train_under)\n",
    "pred = gnb.predict(X_test)\n",
    "confusionMatrix(pred, y_test, True)"
   ],
   "metadata": {
    "collapsed": false,
    "pycharm": {
     "name": "#%%\n"
    }
   }
  },
  {
   "cell_type": "code",
   "execution_count": 21,
   "outputs": [
    {
     "name": "stdout",
     "output_type": "stream",
     "text": [
      "Accuracy:      0.691716\n",
      "\n",
      "Sensitivity:   0.863555\n",
      "\n",
      "Specificity:   0.667713\n",
      "\n"
     ]
    },
    {
     "data": {
      "text/plain": "(0.6917163023798903, 0.8635552701063298, 0.66771331738437)"
     },
     "execution_count": 21,
     "metadata": {},
     "output_type": "execute_result"
    }
   ],
   "source": [
    "#NAIVE BAYES SMOTE\n",
    "\n",
    "gnb = GaussianNB()\n",
    "gnb_os = gnb.fit(X_train_over, y_train_over)\n",
    "pred = gnb.predict(X_test)\n",
    "confusionMatrix(pred, y_test, True)"
   ],
   "metadata": {
    "collapsed": false,
    "pycharm": {
     "name": "#%%\n"
    }
   }
  },
  {
   "cell_type": "code",
   "execution_count": 22,
   "outputs": [
    {
     "name": "stdout",
     "output_type": "stream",
     "text": [
      "Accuracy:      0.706436\n",
      "\n",
      "Sensitivity:   0.838721\n",
      "\n",
      "Specificity:   0.687959\n",
      "\n"
     ]
    },
    {
     "data": {
      "text/plain": "(0.7064364619138831, 0.838721187468779, 0.6879585326953748)"
     },
     "execution_count": 22,
     "metadata": {},
     "output_type": "execute_result"
    }
   ],
   "source": [
    "#NAIVE BAYES MIX\n",
    "\n",
    "gnb = GaussianNB()\n",
    "gnb_mix = gnb.fit(X_train_mix, y_train_mix)\n",
    "pred = gnb.predict(X_test)\n",
    "confusionMatrix(pred, y_test, True)"
   ],
   "metadata": {
    "collapsed": false,
    "pycharm": {
     "name": "#%%\n"
    }
   }
  },
  {
   "cell_type": "code",
   "execution_count": 23,
   "outputs": [
    {
     "data": {
      "text/plain": "<Figure size 432x288 with 1 Axes>",
      "image/png": "[encoded data removed]"
     },
     "metadata": {
      "needs_background": "light"
     },
     "output_type": "display_data"
    }
   ],
   "source": [
    "#STAMPA DELLE CURVE ROC\n",
    "plot_roc(gnb, gnb_us, gnb_os, gnb_mix, X_test = X_test, y_test = y_test, labels=lab)"
   ],
   "metadata": {
    "collapsed": false,
    "pycharm": {
     "name": "#%%\n"
    }
   }
  },
  {
   "cell_type": "markdown",
   "source": [
    "In generale i modelli Naive-Bayes generati con i vari dataset non si sono rivelati soddisfacenti, in particolare quello\n",
    "addestrato con dataset sbilanciato ha prestazioni pessime, mentre gli altri si comportano comunque molto meglio di un\n",
    "classificatore casuale. Il migliore risulta essere quello addestrato con dataset bilanciato tramite mix di SMOTE + Undersampling"
   ],
   "metadata": {
    "collapsed": false,
    "pycharm": {
     "name": "#%% md\n"
    }
   }
  },
  {
   "cell_type": "markdown",
   "source": [
    "### SVM\n",
    "\n",
    "Di seguito si andranno a valutare le prestazioni di SVM, addestrati, come al solito, sui vari dataset,\n",
    "utilizzando kernel lineare la SVM separa tramite un iperpiano le istanze in classi.\n"
   ],
   "metadata": {
    "collapsed": false,
    "pycharm": {
     "name": "#%% md\n"
    }
   }
  },
  {
   "cell_type": "code",
   "execution_count": 27,
   "outputs": [
    {
     "name": "stdout",
     "output_type": "stream",
     "text": [
      "Accuracy:      0.869180\n",
      "\n",
      "Sensitivity:   0.039535\n",
      "\n",
      "Specificity:   0.985068\n",
      "\n"
     ]
    },
    {
     "data": {
      "text/plain": "(0.8691803766191738, 0.03953471776207807, 0.9850677830940989)"
     },
     "execution_count": 27,
     "metadata": {},
     "output_type": "execute_result"
    }
   ],
   "source": [
    "#SVM CON DATASET SBILANCIATO\n",
    "from sklearn import svm\n",
    "\n",
    "clf = svm.SVC(kernel='linear')\n",
    "clf.fit(X_train, y_train)\n",
    "pred = clf.predict(X_test)\n",
    "confusionMatrix(pred, y_test, True)"
   ],
   "metadata": {
    "collapsed": false,
    "pycharm": {
     "name": "#%%\n"
    }
   }
  },
  {
   "cell_type": "markdown",
   "source": [],
   "metadata": {
    "collapsed": false,
    "pycharm": {
     "name": "#%% md\n"
    }
   }
  },
  {
   "cell_type": "code",
   "execution_count": 25,
   "outputs": [
    {
     "name": "stdout",
     "output_type": "stream",
     "text": [
      "Accuracy:      0.740958\n",
      "\n",
      "Sensitivity:   0.773710\n",
      "\n",
      "Specificity:   0.736384\n",
      "\n"
     ]
    },
    {
     "data": {
      "text/plain": "(0.7409584284502287, 0.7737101263112823, 0.7363835725677831)"
     },
     "execution_count": 25,
     "metadata": {},
     "output_type": "execute_result"
    }
   ],
   "source": [
    "#SVM CON UNDERSAMPLING CASUALE\n",
    "\n",
    "clf = svm.SVC(kernel='linear')\n",
    "clf.fit(X_train_under, y_train_under)\n",
    "pred = clf.predict(X_test)\n",
    "confusionMatrix(pred, y_test, True)"
   ],
   "metadata": {
    "collapsed": false,
    "pycharm": {
     "name": "#%%\n"
    }
   }
  },
  {
   "cell_type": "markdown",
   "source": [],
   "metadata": {
    "collapsed": false,
    "pycharm": {
     "name": "#%% md\n"
    }
   }
  },
  {
   "cell_type": "code",
   "execution_count": 19,
   "outputs": [
    {
     "name": "stdout",
     "output_type": "stream",
     "text": [
      "Accuracy:      0.686652\n",
      "\n",
      "Sensitivity:   0.858060\n",
      "\n",
      "Specificity:   0.662709\n",
      "\n"
     ]
    },
    {
     "data": {
      "text/plain": "(0.6866521476738999, 0.8580603725112396, 0.6627093301435407)"
     },
     "execution_count": 19,
     "metadata": {},
     "output_type": "execute_result"
    }
   ],
   "source": [
    "#SVM CON SMOTE\n",
    "clf = svm.SVC(kernel='linear')\n",
    "clf.fit(X_train_over, y_train_over)\n",
    "pred = clf.predict(X_test)\n",
    "confusionMatrix(pred, y_test, True)"
   ],
   "metadata": {
    "collapsed": false,
    "pycharm": {
     "name": "#%%\n"
    }
   }
  },
  {
   "cell_type": "markdown",
   "source": [],
   "metadata": {
    "collapsed": false,
    "pycharm": {
     "name": "#%% md\n"
    }
   }
  },
  {
   "cell_type": "code",
   "execution_count": 20,
   "outputs": [
    {
     "name": "stdout",
     "output_type": "stream",
     "text": [
      "Accuracy:      0.737609\n",
      "\n",
      "Sensitivity:   0.783986\n",
      "\n",
      "Specificity:   0.731130\n",
      "\n"
     ]
    },
    {
     "data": {
      "text/plain": "(0.7376085644564562, 0.7839862984371655, 0.7311303827751197)"
     },
     "execution_count": 20,
     "metadata": {},
     "output_type": "execute_result"
    }
   ],
   "source": [
    "#SVM CON SMOTE + UNDERSAMPLING\n",
    "clf = svm.SVC(kernel='linear')\n",
    "clf.fit(X_train_mix, y_train_mix)\n",
    "pred = clf.predict(X_test)\n",
    "confusionMatrix(pred, y_test, True)"
   ],
   "metadata": {
    "collapsed": false,
    "pycharm": {
     "name": "#%%\n"
    }
   }
  },
  {
   "cell_type": "markdown",
   "source": [
    "Una soluzione allo sbilanciamento alternativa alla alterazione del dataset è quella di applicare una funzione di peso\n",
    "che permette di dare più importanza alle istanze di una classe rispetto a quelle dell'altra\n",
    "In questo caso si applica la funzione di peso al metodo di classificazione SVM\n",
    "In particolare i pesi (parametro `weights`) utilizzati sono 1 per la classe di maggioranza e 5 per la classe di\n",
    "minoranza, per ottenere un peso simile tra le classi"
   ],
   "metadata": {
    "collapsed": false
   }
  },
  {
   "cell_type": "code",
   "execution_count": 22,
   "outputs": [
    {
     "name": "stdout",
     "output_type": "stream",
     "text": [
      "Accuracy:      0.656984\n",
      "\n",
      "Sensitivity:   0.933419\n",
      "\n",
      "Specificity:   0.618371\n",
      "\n"
     ]
    },
    {
     "data": {
      "text/plain": "(0.6569844226951099, 0.9334189681010491, 0.6183712121212122)"
     },
     "execution_count": 22,
     "metadata": {},
     "output_type": "execute_result"
    }
   ],
   "source": [
    "#SVM CON COSTI\n",
    "clf = svm.SVC(kernel='linear', class_weight= {0 : 1, 1 : 5})\n",
    "clf.fit(X_train, y_train)\n",
    "pred = clf.predict(X_test)\n",
    "confusionMatrix(pred, y_test, True)"
   ],
   "metadata": {
    "collapsed": false,
    "pycharm": {
     "name": "#%%\n"
    }
   }
  },
  {
   "cell_type": "markdown",
   "source": [
    "SVM restituisce risultati pessimi quando è addestrato con il dataset sbilanciato, praticamente classifica ogni istanza\n",
    "come appartenente alla classe di minoranza; quando viene addestrato con il dataset sbilanciato al quale viene applicata\n",
    "una funzione di costo oppure con il dataset bilanciato con SMOTE si notano prestazioni ottime in sensitivity a discapito\n",
    "della specificity. Al solito il modello che ha prestazioni migliori è quello addestrato con il dataset bilanciato con\n",
    "il metodo ibrido SMOTE + Undersampling\n",
    "\n"
   ],
   "metadata": {
    "collapsed": false,
    "pycharm": {
     "name": "#%% md\n"
    }
   }
  },
  {
   "cell_type": "markdown",
   "source": [
    "L'algoritmo XGBoost si basa sul metodo del gradient boosting che utilizza le derivate di secondo grado, cioè il\n",
    "gradiente, per trovare il miglior modello ad albero grazie ad una esaustiva valutazione di tutte le possibili\n",
    "suddivisioni ad ogni passo dell'algoritmo.\n",
    "I modelli generati saranno due, addestrati rispettivamente con il dataset bilanciato con Undersampling casuale e\n",
    "con il dataset originale al quale sono stati applicati dei pesi"
   ],
   "metadata": {
    "collapsed": false,
    "pycharm": {
     "name": "#%% md\n"
    }
   }
  },
  {
   "cell_type": "code",
   "execution_count": null,
   "outputs": [],
   "source": [
    "#XGBOOST su UNDERSAMPLED\n",
    "from xgboost import XGBClassifier\n",
    "\n",
    "XGB = XGBClassifier(tree_method= \"gpu_hist\", single_precision_histogram = True, eval_metric = 'logloss')\n",
    "XGB = XGB.fit(X_train_under, y_train_under)\n",
    "pred = XGB.predict(X_test)\n",
    "confusionMatrix(pred, y_test, verbose=True)"
   ],
   "metadata": {
    "collapsed": false,
    "pycharm": {
     "name": "#%%\n"
    }
   }
  },
  {
   "cell_type": "code",
   "execution_count": 10,
   "outputs": [
    {
     "name": "stdout",
     "output_type": "stream",
     "text": [
      "Accuracy:      0.712681\n",
      "\n",
      "Sensitivity:   0.908656\n",
      "\n",
      "Specificity:   0.685307\n",
      "\n"
     ]
    },
    {
     "data": {
      "text/plain": "(0.7126813780798195, 0.9086562477699279, 0.6853070175438597)"
     },
     "execution_count": 10,
     "metadata": {},
     "output_type": "execute_result"
    }
   ],
   "source": [
    "XGB = XGBClassifier(tree_method= \"gpu_hist\", single_precision_histogram = True, scale_pos_weight=7, eval_metric = 'logloss')\n",
    "XGB = XGB.fit(X_train, y_train)\n",
    "pred = XGB.predict(X_test)\n",
    "confusionMatrix(pred, y_test, verbose=True)\n"
   ],
   "metadata": {
    "collapsed": false,
    "pycharm": {
     "name": "#%%\n"
    }
   }
  },
  {
   "cell_type": "markdown",
   "source": [
    "Le prestazioni dei modelli XGBoost sono molto buone e risultano essere leggermente più bilanciate tra sensitivity e\n",
    "specificity nel caso del dataset bilanciato mentre l'altro modello si rivela molto migliore in sensitivity piuttosto\n",
    "che in specificity"
   ],
   "metadata": {
    "collapsed": false,
    "pycharm": {
     "name": "#%% md\n"
    }
   }
  },
  {
   "cell_type": "markdown",
   "source": [
    "## CONCLUSIONI\n",
    "\n",
    "In questa analisi si dovrebbe prediligere la specificity in quanto siamo interessati a classificare bene il maggior\n",
    "numero di potenziali clienti. A tal proposito tra i modelli generati, l'albero di decisione risultato migliore è quello\n",
    "addestrato con dataset bilanciato con Undersampling casuale mentre il Naive-Bayes restituisce risultati migliori quando\n",
    "addestrato con dataset bilanciato con ibrido tra SMOTE e Undersampling casuale. Entrambi però non hanno prestazioni\n",
    "soddisfacenti. L'SVM invece ha prestazioni molto migliori ma è penalizzato da lunghi tempi di esecuzioni che esso comporta.\n",
    "Viste le prestazioni dei modelli elencati fino ad ora si può concludere che come tecnica di bilanciamento del dataset\n",
    "di training lo SMOTE puro non è un metodo competitivo.\n",
    "Il modello risultato sicuramente migliore è quello generato dall'XGBoost sul dataset bilanciato con\n",
    "sottocampionamento casuale, sia per quanto riguarda le prestazioni che per quanto riguarda i tempi di esecuzione,\n",
    "anche grazie alla possibilità di far eseguire i calcoli alla GPU piuttosto che alla CPU\n"
   ],
   "metadata": {
    "collapsed": false,
    "pycharm": {
     "name": "#%% md\n"
    }
   }
  }
 ],
 "metadata": {
  "kernelspec": {
   "name": "python3",
   "language": "python",
   "display_name": "Python 3 (ipykernel)"
  },
  "language_info": {
   "codemirror_mode": {
    "name": "ipython",
    "version": 3
   },
   "file_extension": ".py",
   "mimetype": "text/x-python",
   "name": "python",
   "nbconvert_exporter": "python",
   "pygments_lexer": "ipython3",
   "version": "3.7.0"
  }
 },
 "nbformat": 4,
 "nbformat_minor": 5
}